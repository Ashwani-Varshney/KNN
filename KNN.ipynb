{
 "cells": [
  {
   "cell_type": "code",
   "execution_count": 249,
   "metadata": {},
   "outputs": [],
   "source": [
    "import pandas as pd\n",
    "import numpy as np\n",
    "from sklearn import metrics #importing the metrics\n",
    "from sklearn.metrics import classification_report\n",
    "\n",
    "\n",
    "\n",
    "df = pd.read_csv(r'C:\\Users\\Dell\\Music\\dataset.txt', sep=\",\", header=None)\n"
   ]
  },
  {
   "cell_type": "code",
   "execution_count": 106,
   "metadata": {},
   "outputs": [],
   "source": [
    "# Renaming the target variable with a name \"Target\"\n",
    "df.rename({18 : 'Target'}, axis=1, inplace=True)"
   ]
  },
  {
   "cell_type": "code",
   "execution_count": 107,
   "metadata": {},
   "outputs": [],
   "source": [
    "#Seperating features and targets\n",
    "X = df.iloc[:,0:17]\n",
    "y = df['Target']"
   ]
  },
  {
   "cell_type": "code",
   "execution_count": 108,
   "metadata": {},
   "outputs": [
    {
     "data": {
      "text/html": [
       "<div>\n",
       "<style scoped>\n",
       "    .dataframe tbody tr th:only-of-type {\n",
       "        vertical-align: middle;\n",
       "    }\n",
       "\n",
       "    .dataframe tbody tr th {\n",
       "        vertical-align: top;\n",
       "    }\n",
       "\n",
       "    .dataframe thead th {\n",
       "        text-align: right;\n",
       "    }\n",
       "</style>\n",
       "<table border=\"1\" class=\"dataframe\">\n",
       "  <thead>\n",
       "    <tr style=\"text-align: right;\">\n",
       "      <th></th>\n",
       "      <th>0</th>\n",
       "      <th>1</th>\n",
       "      <th>2</th>\n",
       "      <th>3</th>\n",
       "      <th>4</th>\n",
       "      <th>5</th>\n",
       "      <th>6</th>\n",
       "      <th>7</th>\n",
       "      <th>8</th>\n",
       "      <th>9</th>\n",
       "      <th>10</th>\n",
       "      <th>11</th>\n",
       "      <th>12</th>\n",
       "      <th>13</th>\n",
       "      <th>14</th>\n",
       "      <th>15</th>\n",
       "      <th>16</th>\n",
       "      <th>17</th>\n",
       "      <th>Target</th>\n",
       "    </tr>\n",
       "  </thead>\n",
       "  <tbody>\n",
       "    <tr>\n",
       "      <th>0</th>\n",
       "      <td>95</td>\n",
       "      <td>48</td>\n",
       "      <td>83</td>\n",
       "      <td>178</td>\n",
       "      <td>72</td>\n",
       "      <td>10</td>\n",
       "      <td>162</td>\n",
       "      <td>42</td>\n",
       "      <td>20</td>\n",
       "      <td>159</td>\n",
       "      <td>176</td>\n",
       "      <td>379</td>\n",
       "      <td>184</td>\n",
       "      <td>70</td>\n",
       "      <td>6</td>\n",
       "      <td>16</td>\n",
       "      <td>187</td>\n",
       "      <td>197</td>\n",
       "      <td>van</td>\n",
       "    </tr>\n",
       "    <tr>\n",
       "      <th>1</th>\n",
       "      <td>91</td>\n",
       "      <td>41</td>\n",
       "      <td>84</td>\n",
       "      <td>141</td>\n",
       "      <td>57</td>\n",
       "      <td>9</td>\n",
       "      <td>149</td>\n",
       "      <td>45</td>\n",
       "      <td>19</td>\n",
       "      <td>143</td>\n",
       "      <td>170</td>\n",
       "      <td>330</td>\n",
       "      <td>158</td>\n",
       "      <td>72</td>\n",
       "      <td>9</td>\n",
       "      <td>14</td>\n",
       "      <td>189</td>\n",
       "      <td>199</td>\n",
       "      <td>van</td>\n",
       "    </tr>\n",
       "    <tr>\n",
       "      <th>2</th>\n",
       "      <td>104</td>\n",
       "      <td>50</td>\n",
       "      <td>106</td>\n",
       "      <td>209</td>\n",
       "      <td>66</td>\n",
       "      <td>10</td>\n",
       "      <td>207</td>\n",
       "      <td>32</td>\n",
       "      <td>23</td>\n",
       "      <td>158</td>\n",
       "      <td>223</td>\n",
       "      <td>635</td>\n",
       "      <td>220</td>\n",
       "      <td>73</td>\n",
       "      <td>14</td>\n",
       "      <td>9</td>\n",
       "      <td>188</td>\n",
       "      <td>196</td>\n",
       "      <td>saab</td>\n",
       "    </tr>\n",
       "    <tr>\n",
       "      <th>3</th>\n",
       "      <td>93</td>\n",
       "      <td>41</td>\n",
       "      <td>82</td>\n",
       "      <td>159</td>\n",
       "      <td>63</td>\n",
       "      <td>9</td>\n",
       "      <td>144</td>\n",
       "      <td>46</td>\n",
       "      <td>19</td>\n",
       "      <td>143</td>\n",
       "      <td>160</td>\n",
       "      <td>309</td>\n",
       "      <td>127</td>\n",
       "      <td>63</td>\n",
       "      <td>6</td>\n",
       "      <td>10</td>\n",
       "      <td>199</td>\n",
       "      <td>207</td>\n",
       "      <td>van</td>\n",
       "    </tr>\n",
       "    <tr>\n",
       "      <th>4</th>\n",
       "      <td>85</td>\n",
       "      <td>44</td>\n",
       "      <td>70</td>\n",
       "      <td>205</td>\n",
       "      <td>103</td>\n",
       "      <td>52</td>\n",
       "      <td>149</td>\n",
       "      <td>45</td>\n",
       "      <td>19</td>\n",
       "      <td>144</td>\n",
       "      <td>241</td>\n",
       "      <td>325</td>\n",
       "      <td>188</td>\n",
       "      <td>127</td>\n",
       "      <td>9</td>\n",
       "      <td>11</td>\n",
       "      <td>180</td>\n",
       "      <td>183</td>\n",
       "      <td>bus</td>\n",
       "    </tr>\n",
       "  </tbody>\n",
       "</table>\n",
       "</div>"
      ],
      "text/plain": [
       "     0   1    2    3    4   5    6   7   8    9   10   11   12   13  14  15  \\\n",
       "0   95  48   83  178   72  10  162  42  20  159  176  379  184   70   6  16   \n",
       "1   91  41   84  141   57   9  149  45  19  143  170  330  158   72   9  14   \n",
       "2  104  50  106  209   66  10  207  32  23  158  223  635  220   73  14   9   \n",
       "3   93  41   82  159   63   9  144  46  19  143  160  309  127   63   6  10   \n",
       "4   85  44   70  205  103  52  149  45  19  144  241  325  188  127   9  11   \n",
       "\n",
       "    16   17 Target  \n",
       "0  187  197    van  \n",
       "1  189  199    van  \n",
       "2  188  196   saab  \n",
       "3  199  207    van  \n",
       "4  180  183    bus  "
      ]
     },
     "execution_count": 108,
     "metadata": {},
     "output_type": "execute_result"
    }
   ],
   "source": [
    "df.head()"
   ]
  },
  {
   "cell_type": "code",
   "execution_count": 109,
   "metadata": {},
   "outputs": [],
   "source": [
    "#It will calculate the euclidean distance b/w any two given samples\n",
    "import math\n",
    "def euclidianDistance(sample1, sample2, length):\n",
    "    distance = 0\n",
    "    for x in range(length):\n",
    "        distance += pow(sample1[x] - sample2[x], 2)\n",
    "    return math.sqrt(distance)"
   ]
  },
  {
   "cell_type": "code",
   "execution_count": 110,
   "metadata": {},
   "outputs": [],
   "source": [
    "# Normalizing the data\n",
    "from sklearn.preprocessing import scale\n",
    "X = scale(X)"
   ]
  },
  {
   "cell_type": "code",
   "execution_count": 111,
   "metadata": {},
   "outputs": [],
   "source": [
    "# Splitting the data into training and testing data\n",
    "from sklearn.cross_validation import train_test_split\n",
    "Xtrain,Xtest,ytrain,ytest = train_test_split(X,y,random_state = 4, test_size = 0.1)\n"
   ]
  },
  {
   "cell_type": "code",
   "execution_count": 112,
   "metadata": {},
   "outputs": [],
   "source": [
    "m_train, n_train = Xtrain.shape\n",
    "m_test, n_test = Xtest.shape"
   ]
  },
  {
   "cell_type": "code",
   "execution_count": 177,
   "metadata": {},
   "outputs": [],
   "source": [
    "Xtrain = np.array(Xtrain)\n",
    "Xtest = np.array(Xtest)\n",
    "\n",
    "ytrain = np.array(ytrain)\n",
    "ytest = np.array(ytest)\n"
   ]
  },
  {
   "cell_type": "code",
   "execution_count": 156,
   "metadata": {},
   "outputs": [],
   "source": [
    "import operator\n",
    "import numpy as np\n",
    "\n",
    "#It will give the index of the nearest k neighbors\n",
    "def getNeighbors(train_set, test_sample, k):\n",
    "    distances = []\n",
    "    neighbors = []\n",
    "    neighbors_dist = []\n",
    "    \n",
    "    for i,x in enumerate(train_set):\n",
    "        dist = euclidianDistance(test_sample, x, n_test)\n",
    "        distances.append([i, dist])\n",
    "    \n",
    "    distances.sort(key=operator.itemgetter(1))\n",
    "\n",
    "    for x in range(k):\n",
    "        neighbors.append(distances[x][0])\n",
    "        neighbors_dist.append(distances[x][1])\n",
    "    #print((neighbors_dist))    \n",
    "    return neighbors,neighbors_dist\n"
   ]
  },
  {
   "cell_type": "code",
   "execution_count": 169,
   "metadata": {},
   "outputs": [],
   "source": [
    "# It will give the labels of corresponding nearest k neighbors\n",
    "K_idx = []\n",
    "def getlabel(Xtrain, test_sample, ytrain, weighted):\n",
    "    #index of k nearest neighbor\n",
    "    neighbor_index,neighbor_dist= getNeighbors(Xtrain, test_sample,10)\n",
    "    K_idx.append(neighbor_index)\n",
    "    #labels of k nearest neighbor\n",
    "    labels = []\n",
    "    for i in neighbor_index:\n",
    "        labels.append(ytrain[i])\n",
    "    \n",
    "    if weighted == 1:\n",
    "        #print(\"weighted\")\n",
    "        freq1 = 0 # weighted sum of group 0  \n",
    "        freq2 = 0 # weighted sum of group 1\n",
    "        freq3 = 0\n",
    "        freq4 = 0\n",
    "        #print(labels)\n",
    "        for i in range(1,len(neighbor_index)): \n",
    "            if labels[i] == 'opel':\n",
    "                freq1 += (1 / (neighbor_dist[i]**2)) \n",
    "\n",
    "            elif labels[i] == 'saab':  \n",
    "                freq2 += (1 /neighbor_dist[i]**2)\n",
    "\n",
    "            elif labels[i] == 'bus':  \n",
    "                freq3 += (1 /neighbor_dist[i]**2)\n",
    "\n",
    "            elif labels[i] == 'van':  \n",
    "\n",
    "                freq4 += (1 /neighbor_dist[i]**2)\n",
    "\n",
    "        maximum = max(freq1, freq2, freq3, freq4 )\n",
    "\n",
    "        if maximum == freq1:\n",
    "            return 'opel'\n",
    "        elif maximum == freq2:\n",
    "            return 'saab'\n",
    "        elif maximum == freq3:\n",
    "            return 'bus'\n",
    "        elif maximum == freq4:\n",
    "            return 'van'\n",
    "    \n",
    "    else:\n",
    "        #print(\"unweighted\")\n",
    "\n",
    "        # return label of test sample which is frequent in labels of k nearest neighbor\n",
    "        return max(labels, key=labels.count)\n",
    "    \n",
    "    "
   ]
  },
  {
   "cell_type": "markdown",
   "metadata": {},
   "source": [
    "#### Predicting on the test data using unweighted approach"
   ]
  },
  {
   "cell_type": "code",
   "execution_count": 170,
   "metadata": {
    "scrolled": true
   },
   "outputs": [
    {
     "name": "stdout",
     "output_type": "stream",
     "text": [
      "Accuracy :  0.6705882352941176\n",
      "\n",
      "\n",
      "              precision    recall  f1-score   support\n",
      "\n",
      "        bus       0.78      1.00      0.88        21\n",
      "       opel       0.67      0.31      0.42        26\n",
      "       saab       0.40      0.62      0.49        16\n",
      "        van       0.86      0.82      0.84        22\n",
      "\n",
      "avg / total       0.69      0.67      0.65        85\n",
      "\n"
     ]
    }
   ],
   "source": [
    "y_pred = []\n",
    "for testsample in np.array(Xtest):\n",
    "    y_pred.append(getlabel(np.array(Xtrain), testsample, np.array(ytrain), 0))\n",
    "print(\"Accuracy : \",metrics.accuracy_score(y_pred, np.array(ytest)))\n",
    "\n",
    "print(\"\\n\\n\",classification_report(np.array(ytest), y_pred))\n"
   ]
  },
  {
   "cell_type": "markdown",
   "metadata": {},
   "source": [
    "### Plot"
   ]
  },
  {
   "cell_type": "code",
   "execution_count": 245,
   "metadata": {},
   "outputs": [
    {
     "name": "stdout",
     "output_type": "stream",
     "text": [
      "['saab' 'saab' 'saab' 'saab' 'saab' 'saab' 'opel' 'saab' 'opel' 'opel']\n"
     ]
    },
    {
     "data": {
      "text/plain": [
       "<matplotlib.collections.PathCollection at 0x1f2a5d57f98>"
      ]
     },
     "execution_count": 245,
     "metadata": {},
     "output_type": "execute_result"
    },
    {
     "data": {
      "image/png": "[encoded data removed]",
      "text/plain": [
       "<Figure size 432x288 with 1 Axes>"
      ]
     },
     "metadata": {},
     "output_type": "display_data"
    }
   ],
   "source": [
    "import matplotlib.pyplot as plt\n",
    "X1 = Xtrain[K_idx[2]]\n",
    "\n",
    "y1 = ytrain[K_idx[2]]\n",
    "\n",
    "print(y1)\n",
    "\n",
    "\n",
    "saab = np.ndarray((7,17))\n",
    "opel = np.ndarray((3,17))\n",
    "j = 0\n",
    "k = 0\n",
    "for i in range(10):\n",
    "    if y1[i] == 'saab':\n",
    "        saab[j] = X1[i]\n",
    "        j = j+1\n",
    "    elif y1[i] == 'opel':\n",
    "        opel[k] = X1[i]\n",
    "        k = k+1\n",
    "\n",
    "plt.scatter(Xtrain[:,0],Xtrain[:,1],color = 'y')\n",
    "\n",
    "plt.scatter(saab[:,0],saab[:,1],marker = 's')\n",
    "plt.scatter(opel[:,0],opel[:,1],marker = 'P',color = 'g')\n",
    "\n",
    "plt.scatter(Xtest[2,0], Xtest[2,1],color = 'r')\n",
    "\n"
   ]
  },
  {
   "cell_type": "markdown",
   "metadata": {},
   "source": [
    "##### Because we have just plots two attribute in 2D it looks like the nearest neighbors(diff. color) are far away from the test data(red color)\n",
    "But it is not true since we are plotting only for 2 attributes"
   ]
  },
  {
   "cell_type": "markdown",
   "metadata": {},
   "source": [
    "#### Predicting on the test data using weighted approach"
   ]
  },
  {
   "cell_type": "code",
   "execution_count": 168,
   "metadata": {
    "scrolled": true
   },
   "outputs": [
    {
     "name": "stdout",
     "output_type": "stream",
     "text": [
      "Accuracy :  0.6823529411764706\n",
      "\n",
      "\n",
      "              precision    recall  f1-score   support\n",
      "\n",
      "        bus       0.78      1.00      0.88        21\n",
      "       opel       0.67      0.38      0.49        26\n",
      "       saab       0.39      0.56      0.46        16\n",
      "        van       0.90      0.82      0.86        22\n",
      "\n",
      "avg / total       0.70      0.68      0.67        85\n",
      "\n"
     ]
    }
   ],
   "source": [
    "y_pred = []\n",
    "for testsample in np.array(Xtest):\n",
    "    y_pred.append(getlabel(np.array(Xtrain), testsample, np.array(ytrain), 1))\n",
    "print(\"Accuracy : \",metrics.accuracy_score(y_pred, np.array(ytest)))\n",
    "\n",
    "print(\"\\n\\n\",classification_report(np.array(ytest), y_pred))\n"
   ]
  },
  {
   "cell_type": "markdown",
   "metadata": {},
   "source": [
    "### Using in built model in sklearn"
   ]
  },
  {
   "cell_type": "code",
   "execution_count": 118,
   "metadata": {
    "scrolled": true
   },
   "outputs": [
    {
     "name": "stdout",
     "output_type": "stream",
     "text": [
      "Accuracy on test data  0.6823529411764706\n",
      "\n",
      "\n",
      "              precision    recall  f1-score   support\n",
      "\n",
      "        bus       0.75      1.00      0.86        21\n",
      "       opel       0.71      0.38      0.50        26\n",
      "       saab       0.42      0.62      0.50        16\n",
      "        van       0.89      0.77      0.83        22\n",
      "\n",
      "avg / total       0.71      0.68      0.67        85\n",
      "\n"
     ]
    }
   ],
   "source": [
    "from sklearn.neighbors import KNeighborsClassifier\n",
    "\n",
    "knn = KNeighborsClassifier(n_neighbors = 10)\n",
    "\n",
    "knn.fit(Xtrain,ytrain)\n",
    "\n",
    "y_pred = knn.predict(Xtest) # predicting on training data\n",
    "\n",
    "print(\"Accuracy on test data \",metrics.accuracy_score(ytest,y_pred)) # predicting accuracy on training data\n",
    "\n",
    "print(\"\\n\\n\",classification_report(ytest, y_pred))"
   ]
  },
  {
   "cell_type": "code",
   "execution_count": 141,
   "metadata": {},
   "outputs": [
    {
     "data": {
      "text/plain": [
       "761"
      ]
     },
     "execution_count": 141,
     "metadata": {},
     "output_type": "execute_result"
    }
   ],
   "source": [
    "len(Xtrain)"
   ]
  },
  {
   "cell_type": "markdown",
   "metadata": {},
   "source": [
    "So, we have noticed that we have obtained the accuracy same in weighted approach on comparing it with an in-built model."
   ]
  }
 ],
 "metadata": {
  "kernelspec": {
   "display_name": "Python 3",
   "language": "python",
   "name": "python3"
  },
  "language_info": {
   "codemirror_mode": {
    "name": "ipython",
    "version": 3
   },
   "file_extension": ".py",
   "mimetype": "text/x-python",
   "name": "python",
   "nbconvert_exporter": "python",
   "pygments_lexer": "ipython3",
   "version": "3.7.4"
  }
 },
 "nbformat": 4,
 "nbformat_minor": 2
}
